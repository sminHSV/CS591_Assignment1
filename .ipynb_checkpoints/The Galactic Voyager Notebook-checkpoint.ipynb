{
  "cells": [
    {
      "cell_type": "markdown",
      "metadata": {
        "id": "kUvalW7cKgeO"
      },
      "source": [
        "# The Galactic Voyager: Predicting the Transported Settlers\n",
        "\n",
        "Welcome to the Galactic Voyager Anomaly Lab! In this lab, you will be working with data from the Galactic Voyager, an intergalactic cruiser that faced an unexpected event while navigating near Alpha Centauri en route to its primary destination—the torrid 55 Cancri E.\n",
        "\n",
        "## Objective\n",
        "\n",
        "Your mission is to predict which settlers were transported to an alternate dimension during the Galactic Voyager's encounter with a spacetime distortion. To aid you in making these predictions, you have been provided with a dataset containing personal records salvaged from the ship's compromised database.\n",
        "\n",
        "## Dataset\n",
        "\n",
        "The dataset consists of personal records of the settlers. Here's a brief overview of the data fields:\n",
        "\n",
        "- `PassengerId`: A unique Id for each settler.\n",
        "- `HomeGalaxy`: The galaxy the settler departed from.\n",
        "- `CryoSleep`: Indicates if the settler was in suspended animation.\n",
        "- `Cabin`: The cabin number where the settler stayed.\n",
        "- `Destination`: The planet the settler intended to reach.\n",
        "- ... [Other Fields]\n",
        "\n",
        "Your primary objective is to predict the `Transported` field, which indicates whether a settler was transported to an alternate dimension.\n",
        "\n",
        "## Getting Started with TensorFlow and Random Forest Model\n",
        "\n",
        "To begin, you'll need to use the TensorFlow library and specifically work with the Random Forest model. Here's a basic template to help you get started:\n",
        "\n",
        "```python\n",
        "import tensorflow as tf     #make sure to install tensorflow in googleColab by running the following command: pip install tensorflow_decision_forests\n",
        "import tensorflow_decision_forests as tfdf\n",
        "import pandas as pd\n",
        "\n",
        "\n",
        "# Load the dataset\n",
        "dataset_df = pd.read_csv('path_to_train.csv')\n",
        "\n",
        "# Convert the dataset to TensorFlow format\n",
        "train_ds = tfdf.keras.pd_dataframe_to_tf_dataset(dataset_df, label=\"Transported\")\n",
        "\n",
        "# Create a Random Forest model\n",
        "model = tfdf.keras.RandomForestModel()\n",
        "model.fit(train_ds)\n",
        "\n",
        "# Evaluate the model (Optional)\n",
        "model.evaluate(train_ds)\n"
      ]
    }
  ],
  "metadata": {
    "colab": {
      "provenance": [],
      "toc_visible": true
    },
    "kernelspec": {
      "display_name": "Python 3",
      "name": "python3"
    },
    "language_info": {
      "name": "python"
    }
  },
  "nbformat": 4,
  "nbformat_minor": 0
}
